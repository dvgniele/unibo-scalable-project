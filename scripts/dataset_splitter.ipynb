{
 "cells": [
  {
   "cell_type": "code",
   "execution_count": 27,
   "metadata": {},
   "outputs": [],
   "source": [
    "import os \n",
    "import shutil\n",
    "import random"
   ]
  },
  {
   "cell_type": "code",
   "execution_count": 28,
   "metadata": {},
   "outputs": [],
   "source": [
    "ROOT = '../dataset/public_training_set_release_2/images/'\n",
    "TRAIN_PATH = '../dataset/train/'\n",
    "TEST_PATH = '../dataset/test/'\n",
    "\n",
    "files = []\n",
    "\n",
    "SEED = 121212\n",
    "\n",
    "TRAIN_SIZE = 80\n",
    "TEST_SIZE = 20\n",
    "\n",
    "random.seed(SEED)"
   ]
  },
  {
   "cell_type": "code",
   "execution_count": 29,
   "metadata": {},
   "outputs": [
    {
     "name": "stdout",
     "output_type": "stream",
     "text": [
      "54392\n"
     ]
    }
   ],
   "source": [
    "# reading all files\n",
    "files = []\n",
    "\n",
    "for file in os.listdir(ROOT):\n",
    "    files.append(file)\n",
    "\n",
    "random.shuffle(files)\n",
    "\n",
    "dataset_size = len(files)\n",
    "print(dataset_size)"
   ]
  },
  {
   "cell_type": "code",
   "execution_count": 30,
   "metadata": {},
   "outputs": [],
   "source": [
    "def percentage(num, per):\n",
    "    return (num * per) / 100"
   ]
  },
  {
   "cell_type": "code",
   "execution_count": 31,
   "metadata": {},
   "outputs": [
    {
     "name": "stdout",
     "output_type": "stream",
     "text": [
      "train set size:\t43514\n",
      "test set size:\t10878\n"
     ]
    }
   ],
   "source": [
    "train_count = round(percentage(dataset_size, TRAIN_SIZE))\n",
    "test_count= round(percentage(dataset_size, TEST_SIZE))\n",
    "\n",
    "print(f'train set size:\\t{round(train_count)}')\n",
    "print(f'test set size:\\t{round(test_count)}')\n"
   ]
  },
  {
   "cell_type": "code",
   "execution_count": 32,
   "metadata": {},
   "outputs": [],
   "source": [
    "def move_file(src, dst, file):\n",
    "    src_file = os.path.join(src, file)\n",
    "    if os.path.exists(src_file):\n",
    "        dst_file = os.path.join(dst, file)\n",
    "        shutil.move(src_file, dst_file)\n",
    "    else:\n",
    "        print(f\"File not found: {src_file}\")"
   ]
  },
  {
   "cell_type": "code",
   "execution_count": 33,
   "metadata": {},
   "outputs": [
    {
     "name": "stdout",
     "output_type": "stream",
     "text": [
      "train set size:\t43514\n",
      "test set size:\t10878\n"
     ]
    }
   ],
   "source": [
    "train_set = files[:train_count]\n",
    "test_set = files[train_count:]\n",
    "\n",
    "print(f'train set size:\\t{len(train_set)}')\n",
    "print(f'test set size:\\t{len(test_set)}')\n"
   ]
  },
  {
   "cell_type": "code",
   "execution_count": 34,
   "metadata": {},
   "outputs": [],
   "source": [
    "for file in test_set:\n",
    "    move_file(ROOT, TEST_PATH, file)\n",
    "print('done with test set')\n",
    "\n",
    "for file in train_set:\n",
    "   move_file(ROOT, TRAIN_PATH, file)\n",
    "print('done with train set')"
   ]
  }
 ],
 "metadata": {
  "kernelspec": {
   "display_name": "Python 3",
   "language": "python",
   "name": "python3"
  },
  "language_info": {
   "codemirror_mode": {
    "name": "ipython",
    "version": 3
   },
   "file_extension": ".py",
   "mimetype": "text/x-python",
   "name": "python",
   "nbconvert_exporter": "python",
   "pygments_lexer": "ipython3",
   "version": "3.10.0"
  },
  "orig_nbformat": 4
 },
 "nbformat": 4,
 "nbformat_minor": 2
}
