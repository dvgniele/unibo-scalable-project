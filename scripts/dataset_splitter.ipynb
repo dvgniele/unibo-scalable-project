{
 "cells": [
  {
   "cell_type": "code",
   "execution_count": 1,
   "metadata": {
    "pycharm": {
     "is_executing": true
    }
   },
   "outputs": [],
   "source": [
    "import os \n",
    "import shutil\n",
    "import random"
   ]
  },
  {
   "cell_type": "code",
   "execution_count": 2,
   "metadata": {},
   "outputs": [],
   "source": [
    "ROOT = '../dataset/public_training_set_release_2/images/'\n",
    "TRAIN_PATH = '../dataset/dataset/train/images'\n",
    "TEST_PATH = '../dataset/dataset/test/images'\n",
    "\n",
    "files = []\n",
    "\n",
    "SEED = 121212\n",
    "\n",
    "MAX_FILES = 1000\n",
    "\n",
    "TRAIN_SIZE = 80\n",
    "TEST_SIZE = 20\n",
    "\n",
    "random.seed(SEED)"
   ]
  },
  {
   "cell_type": "code",
   "execution_count": 3,
   "metadata": {},
   "outputs": [
    {
     "ename": "FileNotFoundError",
     "evalue": "[WinError 3] The system cannot find the path specified: '../dataset/public_training_set_release_2/images/'",
     "output_type": "error",
     "traceback": [
      "\u001b[1;31m---------------------------------------------------------------------------\u001b[0m",
      "\u001b[1;31mFileNotFoundError\u001b[0m                         Traceback (most recent call last)",
      "Cell \u001b[1;32mIn[3], line 4\u001b[0m\n\u001b[0;32m      1\u001b[0m \u001b[39m# reading all files\u001b[39;00m\n\u001b[0;32m      2\u001b[0m files \u001b[39m=\u001b[39m []\n\u001b[1;32m----> 4\u001b[0m \u001b[39mfor\u001b[39;00m file \u001b[39min\u001b[39;00m os\u001b[39m.\u001b[39;49mlistdir(ROOT):\n\u001b[0;32m      5\u001b[0m     \u001b[39mif\u001b[39;00m MAX_FILES \u001b[39m!=\u001b[39m \u001b[39m-\u001b[39m\u001b[39m1\u001b[39m \u001b[39mand\u001b[39;00m \u001b[39mlen\u001b[39m(files) \u001b[39m>\u001b[39m\u001b[39m=\u001b[39m MAX_FILES:\n\u001b[0;32m      6\u001b[0m         \u001b[39mbreak\u001b[39;00m\n",
      "\u001b[1;31mFileNotFoundError\u001b[0m: [WinError 3] The system cannot find the path specified: '../dataset/public_training_set_release_2/images/'"
     ]
    }
   ],
   "source": [
    "# reading all files\n",
    "files = []\n",
    "\n",
    "for file in os.listdir(ROOT):\n",
    "    if MAX_FILES != -1 and len(files) >= MAX_FILES:\n",
    "        break\n",
    "    files.append(file)\n",
    "\n",
    "random.shuffle(files)\n",
    "\n",
    "dataset_size = len(files)\n",
    "print(dataset_size)"
   ]
  },
  {
   "cell_type": "code",
   "execution_count": null,
   "metadata": {},
   "outputs": [],
   "source": [
    "def percentage(num, per):\n",
    "    return (num * per) / 100"
   ]
  },
  {
   "cell_type": "code",
   "execution_count": null,
   "metadata": {},
   "outputs": [
    {
     "name": "stdout",
     "output_type": "stream",
     "text": [
      "train set size:\t4000\n",
      "test set size:\t1000\n"
     ]
    }
   ],
   "source": [
    "train_count = round(percentage(dataset_size, TRAIN_SIZE))\n",
    "test_count= round(percentage(dataset_size, TEST_SIZE))\n",
    "\n",
    "print(f'train set size:\\t{round(train_count)}')\n",
    "print(f'test set size:\\t{round(test_count)}')\n"
   ]
  },
  {
   "cell_type": "code",
   "execution_count": null,
   "metadata": {},
   "outputs": [],
   "source": [
    "def move_file(src, dst, file):\n",
    "    src_file = os.path.join(src, file)\n",
    "    if os.path.exists(src_file):\n",
    "        dst_file = os.path.join(dst, file)\n",
    "        shutil.move(src_file, dst_file)\n",
    "    else:\n",
    "        print(f\"File not found: {src_file}\")"
   ]
  },
  {
   "cell_type": "code",
   "execution_count": null,
   "metadata": {},
   "outputs": [
    {
     "name": "stdout",
     "output_type": "stream",
     "text": [
      "train set size:\t4000\n",
      "test set size:\t1000\n"
     ]
    }
   ],
   "source": [
    "train_set = files[:train_count]\n",
    "test_set = files[train_count:]\n",
    "\n",
    "print(f'train set size:\\t{len(train_set)}')\n",
    "print(f'test set size:\\t{len(test_set)}')\n"
   ]
  },
  {
   "cell_type": "code",
   "execution_count": null,
   "metadata": {},
   "outputs": [
    {
     "name": "stdout",
     "output_type": "stream",
     "text": [
      "done with test set\n",
      "done with train set\n"
     ]
    }
   ],
   "source": [
    "if not os.path.exists(TEST_PATH):\n",
    "    os.makedirs(TEST_PATH)\n",
    "\n",
    "if not os.path.exists(TRAIN_PATH):\n",
    "    os.makedirs(TRAIN_PATH)\n",
    "\n",
    "\n",
    "for file in test_set:\n",
    "    move_file(ROOT, TEST_PATH, file)\n",
    "print('done with test set')\n",
    "\n",
    "for file in train_set:\n",
    "   move_file(ROOT, TRAIN_PATH, file)\n",
    "print('done with train set')"
   ]
  }
 ],
 "metadata": {
  "kernelspec": {
   "display_name": "Python 3",
   "language": "python",
   "name": "python3"
  },
  "language_info": {
   "codemirror_mode": {
    "name": "ipython",
    "version": 3
   },
   "file_extension": ".py",
   "mimetype": "text/x-python",
   "name": "python",
   "nbconvert_exporter": "python",
   "pygments_lexer": "ipython3",
   "version": "3.10.0"
  },
  "orig_nbformat": 4
 },
 "nbformat": 4,
 "nbformat_minor": 2
}
